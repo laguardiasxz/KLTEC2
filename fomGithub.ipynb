{
    "nbformat": 4, 
    "cells": [
        {
            "source": "import pandas as pd\nimport numpy as np", 
            "execution_count": 1, 
            "cell_type": "code", 
            "metadata": {
                "collapsed": true
            }, 
            "outputs": []
        }, 
        {
            "source": "# TIMES\nrng = pd.date_range('2016 Jul 1', periods = 10, freq = 'D')\nrng", 
            "execution_count": null, 
            "cell_type": "code", 
            "metadata": {}, 
            "outputs": []
        }, 
        {
            "source": "# Which of these formats DON'T work?\n#'2016 Jul 1', '7/1/2016', '1/7/2016', 'July 1, 2016', '2016-07-01', '2016/07/01'", 
            "execution_count": null, 
            "cell_type": "code", 
            "metadata": {
                "collapsed": true
            }, 
            "outputs": []
        }, 
        {
            "source": "# Is '7/1/2016 in January or July?", 
            "execution_count": null, 
            "cell_type": "code", 
            "metadata": {
                "collapsed": true
            }, 
            "outputs": []
        }, 
        {
            "source": "# What is the class of an individual object held in the date_range?", 
            "execution_count": null, 
            "cell_type": "code", 
            "metadata": {}, 
            "outputs": []
        }, 
        {
            "source": "# TIME STAMPS VS TIME SPANS\npd.Timestamp('2016-07-10')", 
            "execution_count": null, 
            "cell_type": "code", 
            "metadata": {}, 
            "outputs": []
        }, 
        {
            "source": "# You can also more details \npd.Timestamp('2016-07-10 10')", 
            "execution_count": null, 
            "cell_type": "code", 
            "metadata": {}, 
            "outputs": []
        }, 
        {
            "source": "# Or even more...\npd.Timestamp('2016-07-10 10:15')", 
            "execution_count": null, 
            "cell_type": "code", 
            "metadata": {}, 
            "outputs": []
        }, 
        {
            "source": "# How much detail can you add?", 
            "execution_count": null, 
            "cell_type": "code", 
            "metadata": {
                "collapsed": true
            }, 
            "outputs": []
        }, 
        {
            "source": "# What are some properties of timestamps? Try them out.\n# hint: http://pandas.pydata.org/pandas-docs/stable/timeseries.html#time-date-components\nt = pd.Timestamp('2016-07-10 10:15')", 
            "execution_count": null, 
            "cell_type": "code", 
            "metadata": {}, 
            "outputs": []
        }, 
        {
            "source": "# TIME SPANS\npd.Period('2016-01')", 
            "execution_count": null, 
            "cell_type": "code", 
            "metadata": {}, 
            "outputs": []
        }, 
        {
            "source": "# What's that extra info above? How does it get set?", 
            "execution_count": null, 
            "cell_type": "code", 
            "metadata": {
                "collapsed": true
            }, 
            "outputs": []
        }, 
        {
            "source": "pd.Period('2016-01-01')", 
            "execution_count": null, 
            "cell_type": "code", 
            "metadata": {}, 
            "outputs": []
        }, 
        {
            "source": "pd.Period('2016-01-01 10')", 
            "execution_count": null, 
            "cell_type": "code", 
            "metadata": {}, 
            "outputs": []
        }, 
        {
            "source": "pd.Period('2016-01-01 10:10')", 
            "execution_count": null, 
            "cell_type": "code", 
            "metadata": {}, 
            "outputs": []
        }, 
        {
            "source": "pd.Period('2016-01-01 10:10:10')", 
            "execution_count": null, 
            "cell_type": "code", 
            "metadata": {}, 
            "outputs": []
        }, 
        {
            "source": "# What's the most detailed Period you can get?", 
            "execution_count": null, 
            "cell_type": "code", 
            "metadata": {}, 
            "outputs": []
        }, 
        {
            "source": "# How can you make multiple time periods? \n# Hint look for analogy with pd.date_range() above", 
            "execution_count": null, 
            "cell_type": "code", 
            "metadata": {
                "collapsed": true
            }, 
            "outputs": []
        }, 
        {
            "source": "# TIME OFFSETS\npd.Timedelta('1 day')", 
            "execution_count": null, 
            "cell_type": "code", 
            "metadata": {}, 
            "outputs": []
        }, 
        {
            "source": "pd.Period('2016-01-01 10:10') + pd.Timedelta('1 day')", 
            "execution_count": null, 
            "cell_type": "code", 
            "metadata": {}, 
            "outputs": []
        }, 
        {
            "source": "pd.Timestamp('2016-01-01 10:10') + pd.Timedelta('1 day')", 
            "execution_count": null, 
            "cell_type": "code", 
            "metadata": {}, 
            "outputs": []
        }, 
        {
            "source": "pd.Timestamp('2016-01-01 10:10') + pd.Timedelta('15 ns')", 
            "execution_count": null, 
            "cell_type": "code", 
            "metadata": {}, 
            "outputs": []
        }, 
        {
            "source": "# FANCY FREQUENCY SETTING\n# Only want business days\npd.period_range('2016-01-01 10:10', freq = 'B', periods = 10)", 
            "execution_count": null, 
            "cell_type": "code", 
            "metadata": {}, 
            "outputs": []
        }, 
        {
            "source": "# It's possible to combine frequencies. What if you want to advance by 25 hours each day. What are the 2 ways to do it?\np1 = pd.period_range('2016-01-01 10:10', freq = '25H', periods = 10)", 
            "execution_count": null, 
            "cell_type": "code", 
            "metadata": {}, 
            "outputs": []
        }, 
        {
            "source": "p2 = pd.period_range('2016-01-01 10:10', freq = '1D1H', periods = 10)", 
            "execution_count": null, 
            "cell_type": "code", 
            "metadata": {}, 
            "outputs": []
        }, 
        {
            "source": "p1", 
            "execution_count": null, 
            "cell_type": "code", 
            "metadata": {}, 
            "outputs": []
        }, 
        {
            "source": "p2", 
            "execution_count": null, 
            "cell_type": "code", 
            "metadata": {}, 
            "outputs": []
        }, 
        {
            "source": "# What are some other combos you can produce?\n# hint: http://pandas.pydata.org/pandas-docs/stable/timeseries.html#offset-aliases", 
            "execution_count": null, 
            "cell_type": "code", 
            "metadata": {
                "collapsed": true
            }, 
            "outputs": []
        }, 
        {
            "source": "# INDEXING WITH TIME OBJECTS\n# You can use these objects for indices\n# Let's start with using a date range as above\nrng = pd.date_range('2016 Jul 1', periods = 10, freq = 'D')\nrng\npd.Series(range(len(rng)), index = rng)", 
            "execution_count": null, 
            "cell_type": "code", 
            "metadata": {}, 
            "outputs": []
        }, 
        {
            "source": "# You can also use time period indices, in cases where it makes more sense \n# to think about your index as a time span rather than a single point in time\n\nperiods = [pd.Period('2016-01'), pd.Period('2016-02'), pd.Period('2016-03')]\nts = pd.Series(np.random.randn(len(periods)), index = periods)\nts", 
            "execution_count": null, 
            "cell_type": "code", 
            "metadata": {}, 
            "outputs": []
        }, 
        {
            "source": "# What type is the index for ts?\ntype(ts.index)", 
            "execution_count": null, 
            "cell_type": "code", 
            "metadata": {}, 
            "outputs": []
        }, 
        {
            "source": "# Experiment with various indices\n# Hint: does ts['2016'] work? ", 
            "execution_count": null, 
            "cell_type": "code", 
            "metadata": {
                "collapsed": true
            }, 
            "outputs": []
        }, 
        {
            "source": "# Timestamped data can be convereted to period indices with to_period and vice versa with to_timestamp\nts = pd.Series(range(10), pd.date_range('07-10-16 8:00', periods = 10, freq = 'H'))\nts", 
            "execution_count": null, 
            "cell_type": "code", 
            "metadata": {}, 
            "outputs": []
        }, 
        {
            "source": "ts_period = ts.to_period()\nts_period", 
            "execution_count": null, 
            "cell_type": "code", 
            "metadata": {}, 
            "outputs": []
        }, 
        {
            "source": "ts_period['2016-07-10 08:30':'2016-07-10 11:45'] # we have the concept of overlap with time periods", 
            "execution_count": null, 
            "cell_type": "code", 
            "metadata": {}, 
            "outputs": []
        }, 
        {
            "source": "ts['2016-07-10 08:30':'2016-07-10 11:45'] # we have the concept of include with timestamps", 
            "execution_count": null, 
            "cell_type": "code", 
            "metadata": {}, 
            "outputs": []
        }
    ], 
    "metadata": {
        "language_info": {
            "pygments_lexer": "ipython3", 
            "mimetype": "text/x-python", 
            "name": "python", 
            "codemirror_mode": {
                "version": 3, 
                "name": "ipython"
            }, 
            "file_extension": ".py", 
            "version": "3.5.2", 
            "nbconvert_exporter": "python"
        }, 
        "widgets": {
            "state": {}, 
            "version": "1.1.1"
        }, 
        "kernelspec": {
            "language": "python", 
            "display_name": "Python 3.5 (Experimental) with Spark 1.6", 
            "name": "python3"
        }
    }, 
    "nbformat_minor": 1
}